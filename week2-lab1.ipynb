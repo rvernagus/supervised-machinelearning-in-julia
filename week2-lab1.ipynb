{
 "cells": [
  {
   "cell_type": "markdown",
   "metadata": {},
   "source": [
    "# 3 Vectors\n",
    "## 3.3 Vector Creation"
   ]
  },
  {
   "cell_type": "code",
   "execution_count": 1,
   "metadata": {},
   "outputs": [
    {
     "name": "stdout",
     "output_type": "stream",
     "text": [
      "zeros(4) :   a = [0.0, 0.0, 0.0, 0.0], a shape = (4,), a data type = Float64\n",
      "zeros(Float64, 4,) :   a = [0.0, 0.0, 0.0, 0.0], a shape = (4,), a data type = Float64\n"
     ]
    },
    {
     "name": "stdout",
     "output_type": "stream",
     "text": [
      "rand(4) :   a = [0.9159833644993697, 0.7356427781764329, 0.8833980193076859, 0.5113702930571168], a shape = (4,), a data type = Float64\n"
     ]
    }
   ],
   "source": [
    "a = zeros(4)\n",
    "println(\"zeros(4) :   a = $a, a shape = $(size(a)), a data type = $(eltype(a))\")\n",
    "a = zeros(Float64, 4,)\n",
    "println(\"zeros(Float64, 4,) :   a = $a, a shape = $(size(a)), a data type = $(eltype(a))\")\n",
    "a = rand(4)\n",
    "println(\"rand(4) :   a = $a, a shape = $(size(a)), a data type = $(eltype(a))\")"
   ]
  },
  {
   "cell_type": "code",
   "execution_count": 2,
   "metadata": {},
   "outputs": [
    {
     "name": "stdout",
     "output_type": "stream",
     "text": [
      "0.:3. :   a = 0.0:1.0:3.0, a shape = (4,), a data type = Float64\n",
      "rand(4) :   a = [0.21720184962446665, 0.05282304009236516, 0.7076698722077179, 0.21641376642704302], a shape = (4,), a data type = Float64\n"
     ]
    }
   ],
   "source": [
    "a = 0.:3.\n",
    "println(\"0.:3. :   a = $a, a shape = $(size(a)), a data type = $(eltype(a))\")\n",
    "a = rand(4)\n",
    "println(\"rand(4) :   a = $a, a shape = $(size(a)), a data type = $(eltype(a))\")"
   ]
  },
  {
   "cell_type": "code",
   "execution_count": 3,
   "metadata": {},
   "outputs": [
    {
     "name": "stdout",
     "output_type": "stream",
     "text": [
      "[5, 4, 3, 2] :   a = [5, 4, 3, 2], a shape = (4,), a data type = Int64\n",
      "[5., 4, 3, 2] :   a = [5.0, 4.0, 3.0, 2.0], a shape = (4,), a data type = Float64\n"
     ]
    }
   ],
   "source": [
    "a = [5, 4, 3, 2]\n",
    "println(\"[5, 4, 3, 2] :   a = $a, a shape = $(size(a)), a data type = $(eltype(a))\")\n",
    "a = [5., 4, 3, 2]\n",
    "println(\"[5., 4, 3, 2] :   a = $a, a shape = $(size(a)), a data type = $(eltype(a))\")"
   ]
  },
  {
   "cell_type": "markdown",
   "metadata": {},
   "source": [
    "## 3.4 Operations on Vectors\n",
    "### 3.4.1 Indexing"
   ]
  },
  {
   "cell_type": "code",
   "execution_count": 4,
   "metadata": {},
   "outputs": [
    {
     "name": "stdout",
     "output_type": "stream",
     "text": [
      "[0, 1, 2, 3, 4, 5, 6, 7, 8, 9]\n",
      "size(a[3]): () a[3] = 2, Accessing an element returns a scalar\n",
      "a[end] = 9\n",
      "The error message you'll see is:\n",
      "BoundsError"
     ]
    },
    {
     "name": "stdout",
     "output_type": "stream",
     "text": [
      "(0:9, 11)\n"
     ]
    }
   ],
   "source": [
    "# vector indexing operations on 1-D vectors\n",
    "a = 0:9\n",
    "println(collect(a))\n",
    "\n",
    "# access an element\n",
    "println(\"size(a[3]): $(size(a[3])) a[3] = $(a[3]), Accessing an element returns a scalar\")\n",
    "\n",
    "# access the last element, negative indexes count from the end\n",
    "println(\"a[end] = $(a[end])\")\n",
    "\n",
    "# indexes must be within the range of the vector or they will produce and error\n",
    "try\n",
    "    c = a[11]\n",
    "catch e\n",
    "    println(\"The error message you'll see is:\")\n",
    "    println(e)\n",
    "end"
   ]
  },
  {
   "cell_type": "markdown",
   "metadata": {},
   "source": [
    "### 3.4.2 Slicing"
   ]
  },
  {
   "cell_type": "code",
   "execution_count": 5,
   "metadata": {},
   "outputs": [
    {
     "name": "stdout",
     "output_type": "stream",
     "text": [
      "a = [0, 1, 2, 3, 4, 5, 6, 7, 8, 9]\n",
      "a[3:1:7] = [2, 3, 4, 5, 6]\n",
      "a[3:2:7] = [2, 4, 6]\n",
      "a[4:end] = [3, 4, 5, 6, 7, 8, 9]\n",
      "a[begin:3] = [0, 1, 2]\n",
      "a[begin:end] = [0, 1, 2, 3, 4, 5, 6, 7, 8, 9]\n"
     ]
    }
   ],
   "source": [
    "#vector slicing operations\n",
    "a = 0:9\n",
    "println(\"a = $(collect(a))\")\n",
    "\n",
    "# access 5 consecutive elements (start:stop:step)\n",
    "c = a[3:1:7]\n",
    "println(\"a[3:1:7] = $(collect(c))\")\n",
    "\n",
    "# access 3 elements separated by two \n",
    "c = a[3:2:7]\n",
    "println(\"a[3:2:7] = $(collect(c))\")\n",
    "\n",
    "# access all elements index 3 and above\n",
    "c = a[4:end]\n",
    "println(\"a[4:end] = $(collect(c))\")\n",
    "\n",
    "# access all elements below index 3\n",
    "c = a[begin:3]\n",
    "println(\"a[begin:3] = $(collect(c))\")\n",
    "\n",
    "# access all elements\n",
    "c = a[begin:end]\n",
    "println(\"a[begin:end] = $(collect(c))\")"
   ]
  },
  {
   "cell_type": "markdown",
   "metadata": {},
   "source": [
    "### 3.4.3 Single vector operations"
   ]
  },
  {
   "cell_type": "code",
   "execution_count": 6,
   "metadata": {},
   "outputs": [
    {
     "name": "stdout",
     "output_type": "stream",
     "text": [
      "a : [1, 2, 3, 4]\n"
     ]
    },
    {
     "name": "stdout",
     "output_type": "stream",
     "text": [
      "b = -a : [-1, -2, -3, -4]\n",
      "b = sum(a) : 10\n",
      "b = mean(a) : 2.5\n"
     ]
    },
    {
     "name": "stdout",
     "output_type": "stream",
     "text": [
      "b = a.^2 : [1, 4, 9, 16]\n"
     ]
    }
   ],
   "source": [
    "using Statistics\n",
    "\n",
    "a = [1, 2, 3, 4]\n",
    "println(\"a : $a\")\n",
    "\n",
    "# negate elements of a\n",
    "b = -a\n",
    "println(\"b = -a : $b\")\n",
    "\n",
    "# sum all elements of a, returns a scalar\n",
    "b = sum(a)\n",
    "println(\"b = sum(a) : $b\")\n",
    "\n",
    "b = mean(a)\n",
    "println(\"b = mean(a) : $b\")\n",
    "\n",
    "b = a.^2\n",
    "println(\"b = a.^2 : $b\")"
   ]
  },
  {
   "cell_type": "markdown",
   "metadata": {},
   "source": [
    "### 3.4.4 Vector Vector element-wise operations"
   ]
  },
  {
   "cell_type": "code",
   "execution_count": 7,
   "metadata": {},
   "outputs": [
    {
     "name": "stdout",
     "output_type": "stream",
     "text": [
      "Binary operators work element wise: [0, 0, 6, 8]\n"
     ]
    }
   ],
   "source": [
    "a = [1, 2, 3, 4]\n",
    "b = [-1, -2, 3, 4]\n",
    "println(\"Binary operators work element wise: $(a + b)\")"
   ]
  },
  {
   "cell_type": "code",
   "execution_count": 8,
   "metadata": {},
   "outputs": [
    {
     "name": "stdout",
     "output_type": "stream",
     "text": [
      "The error message you'll see is:\n",
      "DimensionMismatch("
     ]
    },
    {
     "name": "stdout",
     "output_type": "stream",
     "text": [
      "\"dimensions must match: a has dims (Base.OneTo(4),), b has dims (Base.OneTo(2),), mismatch at 1\")"
     ]
    }
   ],
   "source": [
    "# try a mismatched vector operation\n",
    "c = [1, 2]\n",
    "try\n",
    "    d = a + c\n",
    "catch e\n",
    "    println(\"The error message you'll see is:\")\n",
    "    print(e)\n",
    "end"
   ]
  },
  {
   "cell_type": "markdown",
   "metadata": {},
   "source": [
    "### 3.4.5 Scalar Vector operations"
   ]
  },
  {
   "cell_type": "code",
   "execution_count": 9,
   "metadata": {},
   "outputs": [
    {
     "name": "stdout",
     "output_type": "stream",
     "text": [
      "b = 5 * a : [5, 10, 15, 20]\n"
     ]
    }
   ],
   "source": [
    "a = [1, 2, 3, 4]\n",
    "\n",
    "# multiply a by a scalar\n",
    "b = 5 * a\n",
    "println(\"b = 5 * a : $b\")"
   ]
  },
  {
   "cell_type": "markdown",
   "metadata": {},
   "source": [
    "### 3.4.6 Vector Vector dot product"
   ]
  },
  {
   "cell_type": "code",
   "execution_count": 10,
   "metadata": {},
   "outputs": [
    {
     "data": {
      "text/plain": [
       "my_dot (generic function with 1 method)"
      ]
     },
     "metadata": {},
     "output_type": "display_data"
    }
   ],
   "source": [
    "function my_dot(a, b) \n",
    "    \"\"\"\n",
    "   Compute the dot product of two vectors\n",
    " \n",
    "    Args:\n",
    "      a (ndarray (n,)):  input vector \n",
    "      b (ndarray (n,)):  input vector with same dimension as a\n",
    "    \n",
    "    Returns:\n",
    "      x (scalar): \n",
    "    \"\"\"\n",
    "    x = 0\n",
    "    for i in eachindex(a)\n",
    "        x = x + a[i] * b[i]\n",
    "    end\n",
    "    x\n",
    "end"
   ]
  },
  {
   "cell_type": "code",
   "execution_count": 11,
   "metadata": {},
   "outputs": [
    {
     "name": "stdout",
     "output_type": "stream",
     "text": [
      "my_dot(a, b) = 24\n"
     ]
    }
   ],
   "source": [
    "# test 1-D\n",
    "a = [1, 2, 3, 4]\n",
    "b = [-1, 4, 3, 2]\n",
    "println(\"my_dot(a, b) = $(my_dot(a, b))\")"
   ]
  },
  {
   "cell_type": "code",
   "execution_count": 12,
   "metadata": {},
   "outputs": [
    {
     "name": "stdout",
     "output_type": "stream",
     "text": [
      "1-D a ⋅ b = 24, size(a ⋅ b) = () \n",
      "1-D b ⋅ a = 24, size(b ⋅ a) = ()\n"
     ]
    }
   ],
   "source": [
    "using LinearAlgebra\n",
    "\n",
    "# test 1-D\n",
    "a = [1, 2, 3, 4]\n",
    "b = [-1, 4, 3, 2]\n",
    "c = a · b\n",
    "println(\"1-D a ⋅ b = $c, size(a ⋅ b) = $(size(c)) \") \n",
    "c = b ⋅ a\n",
    "println(\"1-D b ⋅ a = $c, size(b ⋅ a) = $(size(c))\")\n"
   ]
  },
  {
   "cell_type": "markdown",
   "metadata": {},
   "source": [
    "### 3.4.7 The Need for Speed: vector vs for loop"
   ]
  },
  {
   "cell_type": "code",
   "execution_count": 13,
   "metadata": {},
   "outputs": [
    {
     "name": "stdout",
     "output_type": "stream",
     "text": [
      "Vectorized version duration:\n"
     ]
    },
    {
     "name": "stdout",
     "output_type": "stream",
     "text": [
      "  0.028373 seconds (55.05 k allocations: 3.104 MiB, 55.91% compilation time)\n",
      "a ⋅ b =  2499936.85\n",
      "Loop version duration:\n"
     ]
    },
    {
     "name": "stdout",
     "output_type": "stream",
     "text": [
      "  0.073610 seconds (13.65 k allocations: 780.801 KiB, 29.55% compilation time)\n"
     ]
    }
   ],
   "source": [
    "using Printf\n",
    "\n",
    "a = rand(10000000)  # very large arrays\n",
    "b = rand(10000000)\n",
    "\n",
    "println(\"Vectorized version duration:\")\n",
    "@time c = a ⋅ b\n",
    "\n",
    "println(\"a ⋅ b =  $(@sprintf(\"%.2f\", c))\")\n",
    "\n",
    "println(\"Loop version duration:\")\n",
    "@time c = my_dot(a, b)\n",
    "\n",
    "# remove these big arrays from memory\n",
    "a = nothing\n",
    "b = nothing;"
   ]
  },
  {
   "cell_type": "markdown",
   "metadata": {},
   "source": [
    "### 3.4.8 Vector Vector operations in Course 1"
   ]
  },
  {
   "cell_type": "code",
   "execution_count": 14,
   "metadata": {},
   "outputs": [
    {
     "name": "stdout",
     "output_type": "stream",
     "text": [
      "X[2] has shape ()\n",
      "w has shape (1,)\n",
      "c has shape ()\n"
     ]
    }
   ],
   "source": [
    "# show common Course 1 example\n",
    "X = X = [\n",
    "    1\n",
    "    2\n",
    "    3\n",
    "    4\n",
    "]\n",
    "w = [2]\n",
    "c = X[2] ⋅ w\n",
    "\n",
    "println(\"X[2] has shape $(size(X[2]))\")\n",
    "println(\"w has shape $(size(w))\")\n",
    "println(\"c has shape $(size(c))\")"
   ]
  },
  {
   "cell_type": "markdown",
   "metadata": {},
   "source": [
    "# 4 Matrices\n",
    "## 4.3 Matrix Creation"
   ]
  },
  {
   "cell_type": "code",
   "execution_count": 15,
   "metadata": {},
   "outputs": [
    {
     "name": "stdout",
     "output_type": "stream",
     "text": [
      "a shape = (1, 5), a = [0.0 0.0 0.0 0.0 0.0]\n",
      "a shape = (2, 1), a = [0.0; 0.0;;]\n",
      "a shape = (1, 1), a = [0.05865923830029873;;]\n"
     ]
    }
   ],
   "source": [
    "a = zeros(Float64, 1, 5)\n",
    "println(\"a shape = $(size(a)), a = $a\")\n",
    "\n",
    "a = zeros(Float64, 2, 1)\n",
    "println(\"a shape = $(size(a)), a = $a\")\n",
    "\n",
    "a = rand(Float64, 1, 1)\n",
    "println(\"a shape = $(size(a)), a = $a\")"
   ]
  },
  {
   "cell_type": "code",
   "execution_count": 16,
   "metadata": {},
   "outputs": [
    {
     "name": "stdout",
     "output_type": "stream",
     "text": [
      "a shape = (3,), a = [5, 4, 3]\n",
      "a shape = (3,), a = [5, 4, 3]\n"
     ]
    }
   ],
   "source": [
    "# Routines which allocate memory and fill with user specified values\n",
    "a = [5, 4, 3]\n",
    "println(\"a shape = $(size(a)), a = $a\")\n",
    "\n",
    "a = [\n",
    "    5  # One can also\n",
    "    4 # separate values\n",
    "    3 #into separate rows\n",
    "]\n",
    "println(\"a shape = $(size(a)), a = $a\")"
   ]
  },
  {
   "cell_type": "markdown",
   "metadata": {},
   "source": [
    "## 4.4 Operations on Matrices\n",
    "### 4.4.1 Indexing"
   ]
  },
  {
   "cell_type": "code",
   "execution_count": 17,
   "metadata": {},
   "outputs": [
    {
     "name": "stdout",
     "output_type": "stream",
     "text": [
      "a shape: (3, 2)\n",
      "a = [0 1; 2 3; 4 5]\n",
      "size(a[3,1]): (), a[3, 1] = 4, typeof(a[3, 1]) = Int64\n",
      "size(a[3, :]): (2,), a[3, :] = [4, 5], typeof(a[3, :] = Vector{Int64}\n"
     ]
    }
   ],
   "source": [
    "# vector indexing operations on matrices\n",
    "a = reshape(0:5, (2, :))'\n",
    "println(\"a shape: $(size(a))\\na = $a\")\n",
    "\n",
    "# access an element\n",
    "println(\"size(a[3,1]): $(size(a[3,1])), a[3, 1] = $(a[3,1]), typeof(a[3, 1]) = $(typeof(a[3, 1]))\")\n",
    "# print(f\"\\na[2,0].shape:   {a[2, 0].shape}, a[2,0] = {a[2, 0]},     type(a[2,0]) = {type(a[2, 0])} Accessing an element returns a scalar\\n\")\n",
    "\n",
    "# access a row\n",
    "println(\"size(a[3, :]): $(size(a[3, :])), a[3, :] = $(a[3, :]), typeof(a[3, :] = $(typeof(a[3, :]))\")\n",
    "# print(f\"a[2].shape:   {a[2].shape}, a[2]   = {a[2]}, type(a[2])   = {type(a[2])}\")"
   ]
  },
  {
   "cell_type": "markdown",
   "metadata": {},
   "source": [
    "### 4.4.2 Slicing"
   ]
  },
  {
   "cell_type": "code",
   "execution_count": 36,
   "metadata": {},
   "outputs": [
    {
     "name": "stdout",
     "output_type": "stream",
     "text": [
      "a = [0 1 2 3 4 5 6 7 8 9; 10 11 12 13 14 15 16 17 18 19]\n",
      "view(a, 1, 3:7, 1) = [2, 3, 4, 5, 6], size(view(a, 1, 3:7, 1)) = (5,) a 1-D array\n",
      "view(a, :, 3:7, 1) = [2 3 4 5 6; 12 13 14 15 16], size(view(a, :, 3:7, 1)) = (2, 5) a 1-D array\n",
      "a[:, :] = [0 1 2 3 4 5 6 7 8 9; 10 11 12 13 14 15 16 17 18 19], size(a[:, :]) = (2, 10)\n",
      "a[2, :] = [10, 11, 12, 13, 14, 15, 16, 17, 18, 19], size(a[2, :] = (10,)\n",
      "view(a, 2, :) = [10, 11, 12, 13, 14, 15, 16, 17, 18, 19], size(view(a, 2, :)) = (10,)\n"
     ]
    }
   ],
   "source": [
    "# vector 2-D slicing operations\n",
    "a =reshape(0:19, (10, :))'\n",
    "println(\"a = $a\")\n",
    "\n",
    "# access 5 consecutive elements (start:stop:step)\n",
    "println(\"view(a, 1, 3:7, 1) = $(view(a, 1, 3:7, 1)), size(view(a, 1, 3:7, 1)) = $(size(view(a, 1, 3:7, 1))) a 1-D array\")\n",
    "\n",
    "# access 5 consecutive elements (start:stop:step) in two rows\n",
    "println(\"view(a, :, 3:7, 1) = $(view(a, :, 3:7, 1)), size(view(a, :, 3:7, 1)) = $(size(view(a, :, 3:7, 1))) a 1-D array\")\n",
    "\n",
    "# access all elements\n",
    "println(\"a[:, :] = $(a[:, :]), size(a[:, :]) = $(size(a[: ,:]))\")\n",
    "\n",
    "# access all elements in one row (very common usage)\n",
    "println(\"a[2, :] = $(a[2, :]), size(a[2, :] = $(size(a[2, :]))\")\n",
    "# same as\n",
    "println(\"view(a, 2, :) = $(view(a, 2, :)), size(view(a, 2, :)) = $(size(view(a, 2, :)))\")"
   ]
  },
  {
   "cell_type": "code",
   "execution_count": null,
   "metadata": {},
   "outputs": [],
   "source": []
  }
 ],
 "metadata": {
  "kernelspec": {
   "display_name": "Julia 1.7.3",
   "language": "julia",
   "name": "julia-1.7"
  },
  "language_info": {
   "file_extension": ".jl",
   "mimetype": "application/julia",
   "name": "julia",
   "version": "1.7.3"
  },
  "orig_nbformat": 4
 },
 "nbformat": 4,
 "nbformat_minor": 2
}
