{
 "cells": [
  {
   "cell_type": "markdown",
   "metadata": {},
   "source": [
    "# 3 Vectors\n",
    "## 3.3 Vector Creation"
   ]
  },
  {
   "cell_type": "code",
   "execution_count": 1,
   "metadata": {},
   "outputs": [
    {
     "name": "stdout",
     "output_type": "stream",
     "text": [
      "zeros(4) :   a = [0.0, 0.0, 0.0, 0.0], a shape = (4,), a data type = Float64\n",
      "zeros(Float64, 4,) :   a = [0.0, 0.0, 0.0, 0.0], a shape = (4,), a data type = Float64\n"
     ]
    },
    {
     "name": "stdout",
     "output_type": "stream",
     "text": [
      "rand(4) :   a = [0.4042183748437387, 0.49431067935732975, 0.39002427253342564, 0.10567891551346753], a shape = (4,), a data type = Float64\n"
     ]
    }
   ],
   "source": [
    "a = zeros(4)\n",
    "println(\"zeros(4) :   a = $a, a shape = $(size(a)), a data type = $(eltype(a))\")\n",
    "a = zeros(Float64, 4,)\n",
    "println(\"zeros(Float64, 4,) :   a = $a, a shape = $(size(a)), a data type = $(eltype(a))\")\n",
    "a = rand(4)\n",
    "println(\"rand(4) :   a = $a, a shape = $(size(a)), a data type = $(eltype(a))\")"
   ]
  },
  {
   "cell_type": "code",
   "execution_count": 2,
   "metadata": {},
   "outputs": [
    {
     "name": "stdout",
     "output_type": "stream",
     "text": [
      "0.:3. :   a = 0.0:1.0:3.0, a shape = (4,), a data type = Float64\n",
      "rand(4) :   a = [0.6054812735559628, 0.7688887695029397, 0.38638410264888623, 0.5039446391967168], a shape = (4,), a data type = Float64\n"
     ]
    }
   ],
   "source": [
    "a = 0.:3.\n",
    "println(\"0.:3. :   a = $a, a shape = $(size(a)), a data type = $(eltype(a))\")\n",
    "a = rand(4)\n",
    "println(\"rand(4) :   a = $a, a shape = $(size(a)), a data type = $(eltype(a))\")"
   ]
  },
  {
   "cell_type": "code",
   "execution_count": 3,
   "metadata": {},
   "outputs": [
    {
     "name": "stdout",
     "output_type": "stream",
     "text": [
      "[5, 4, 3, 2] :   a = [5, 4, 3, 2], a shape = (4,), a data type = Int64\n",
      "[5., 4, 3, 2] :   a = [5.0, 4.0, 3.0, 2.0], a shape = (4,), a data type = Float64\n"
     ]
    }
   ],
   "source": [
    "a = [5, 4, 3, 2]\n",
    "println(\"[5, 4, 3, 2] :   a = $a, a shape = $(size(a)), a data type = $(eltype(a))\")\n",
    "a = [5., 4, 3, 2]\n",
    "println(\"[5., 4, 3, 2] :   a = $a, a shape = $(size(a)), a data type = $(eltype(a))\")"
   ]
  },
  {
   "cell_type": "markdown",
   "metadata": {},
   "source": [
    "## 3.4 Operations on Vectors\n",
    "### 3.4.1 Indexing"
   ]
  },
  {
   "cell_type": "code",
   "execution_count": 4,
   "metadata": {},
   "outputs": [
    {
     "name": "stdout",
     "output_type": "stream",
     "text": [
      "[0, 1, 2, 3, 4, 5, 6, 7, 8, 9]\n",
      "size(a[3]): () a[3] = 2, Accessing an element returns a scalar\n",
      "a[end] = 9\n",
      "The error message you'll see is:\n",
      "BoundsError"
     ]
    },
    {
     "name": "stdout",
     "output_type": "stream",
     "text": [
      "(0:9, 11)\n"
     ]
    }
   ],
   "source": [
    "# vector indexing operations on 1-D vectors\n",
    "a = 0:9\n",
    "println(collect(a))\n",
    "\n",
    "# access an element\n",
    "println(\"size(a[3]): $(size(a[3])) a[3] = $(a[3]), Accessing an element returns a scalar\")\n",
    "\n",
    "# access the last element, negative indexes count from the end\n",
    "println(\"a[end] = $(a[end])\")\n",
    "\n",
    "# indexes must be within the range of the vector or they will produce and error\n",
    "try\n",
    "    c = a[11]\n",
    "catch e\n",
    "    println(\"The error message you'll see is:\")\n",
    "    println(e)\n",
    "end"
   ]
  },
  {
   "cell_type": "markdown",
   "metadata": {},
   "source": [
    "### 3.4.2 Slicing"
   ]
  },
  {
   "cell_type": "code",
   "execution_count": 27,
   "metadata": {},
   "outputs": [
    {
     "name": "stdout",
     "output_type": "stream",
     "text": [
      "a = [0, 1, 2, 3, 4, 5, 6, 7, 8, 9]\n",
      "a[3:1:7] = [2, 3, 4, 5, 6]\n",
      "a[3:2:7] = [2, 4, 6]\n",
      "a[4:end] = [3, 4, 5, 6, 7, 8, 9]\n",
      "a[begin:3] = [0, 1, 2]\n",
      "a[begin:end] = [0, 1, 2, 3, 4, 5, 6, 7, 8, 9]\n"
     ]
    }
   ],
   "source": [
    "#vector slicing operations\n",
    "a = 0:9\n",
    "println(\"a = $(collect(a))\")\n",
    "\n",
    "# access 5 consecutive elements (start:stop:step)\n",
    "c = a[3:1:7]\n",
    "println(\"a[3:1:7] = $(collect(c))\")\n",
    "\n",
    "# access 3 elements separated by two \n",
    "c = a[3:2:7]\n",
    "println(\"a[3:2:7] = $(collect(c))\")\n",
    "\n",
    "# access all elements index 3 and above\n",
    "c = a[4:end]\n",
    "println(\"a[4:end] = $(collect(c))\")\n",
    "\n",
    "# access all elements below index 3\n",
    "c = a[begin:3]\n",
    "println(\"a[begin:3] = $(collect(c))\")\n",
    "\n",
    "# access all elements\n",
    "c = a[begin:end]\n",
    "println(\"a[begin:end] = $(collect(c))\")"
   ]
  },
  {
   "cell_type": "markdown",
   "metadata": {},
   "source": [
    "### 3.4.3 Single vector operations"
   ]
  },
  {
   "cell_type": "code",
   "execution_count": 8,
   "metadata": {},
   "outputs": [
    {
     "name": "stdout",
     "output_type": "stream",
     "text": [
      "a : [1, 2, 3, 4]\n",
      "b = -a : [-1, -2, -3, -4]\n",
      "b = sum(a) : 10\n",
      "b = mean(a) : 2.5\n"
     ]
    },
    {
     "name": "stdout",
     "output_type": "stream",
     "text": [
      "b = a.^2 : [1, 4, 9, 16]\n"
     ]
    }
   ],
   "source": [
    "using Statistics\n",
    "\n",
    "a = [1, 2, 3, 4]\n",
    "println(\"a : $a\")\n",
    "\n",
    "# negate elements of a\n",
    "b = -a\n",
    "println(\"b = -a : $b\")\n",
    "\n",
    "# sum all elements of a, returns a scalar\n",
    "b = sum(a)\n",
    "println(\"b = sum(a) : $b\")\n",
    "\n",
    "b = mean(a)\n",
    "println(\"b = mean(a) : $b\")\n",
    "\n",
    "b = a.^2\n",
    "println(\"b = a.^2 : $b\")"
   ]
  },
  {
   "cell_type": "markdown",
   "metadata": {},
   "source": [
    "### 3.4.4 Vector Vector element-wise operations"
   ]
  },
  {
   "cell_type": "code",
   "execution_count": 9,
   "metadata": {},
   "outputs": [
    {
     "name": "stdout",
     "output_type": "stream",
     "text": [
      "Binary operators work element wise: [0, 0, 6, 8]\n"
     ]
    }
   ],
   "source": [
    "a = [1, 2, 3, 4]\n",
    "b = [-1, -2, 3, 4]\n",
    "println(\"Binary operators work element wise: $(a + b)\")"
   ]
  },
  {
   "cell_type": "code",
   "execution_count": 10,
   "metadata": {},
   "outputs": [
    {
     "name": "stdout",
     "output_type": "stream",
     "text": [
      "The error message you'll see is:\n"
     ]
    },
    {
     "name": "stdout",
     "output_type": "stream",
     "text": [
      "DimensionMismatch(\"dimensions must match: a has dims (Base.OneTo(4),), b has dims (Base.OneTo(2),), mismatch at 1\")"
     ]
    }
   ],
   "source": [
    "# try a mismatched vector operation\n",
    "c = [1, 2]\n",
    "try\n",
    "    d = a + c\n",
    "catch e\n",
    "    println(\"The error message you'll see is:\")\n",
    "    print(e)\n",
    "end"
   ]
  },
  {
   "cell_type": "markdown",
   "metadata": {},
   "source": [
    "### 3.4.5 Scalar Vector operations"
   ]
  },
  {
   "cell_type": "code",
   "execution_count": 11,
   "metadata": {},
   "outputs": [
    {
     "name": "stdout",
     "output_type": "stream",
     "text": [
      "b = 5 * a : [5, 10, 15, 20]\n"
     ]
    }
   ],
   "source": [
    "a = [1, 2, 3, 4]\n",
    "\n",
    "# multiply a by a scalar\n",
    "b = 5 * a\n",
    "println(\"b = 5 * a : $b\")"
   ]
  },
  {
   "cell_type": "markdown",
   "metadata": {},
   "source": [
    "### 3.4.6 Vector Vector dot product"
   ]
  },
  {
   "cell_type": "code",
   "execution_count": 45,
   "metadata": {},
   "outputs": [
    {
     "data": {
      "text/plain": [
       "my_dot (generic function with 1 method)"
      ]
     },
     "metadata": {},
     "output_type": "display_data"
    }
   ],
   "source": [
    "function my_dot(a, b) \n",
    "    \"\"\"\n",
    "   Compute the dot product of two vectors\n",
    " \n",
    "    Args:\n",
    "      a (ndarray (n,)):  input vector \n",
    "      b (ndarray (n,)):  input vector with same dimension as a\n",
    "    \n",
    "    Returns:\n",
    "      x (scalar): \n",
    "    \"\"\"\n",
    "    x = 0\n",
    "    for i in eachindex(a)\n",
    "        x = x + a[i] * b[i]\n",
    "    end\n",
    "    x\n",
    "end"
   ]
  },
  {
   "cell_type": "code",
   "execution_count": 46,
   "metadata": {},
   "outputs": [
    {
     "name": "stdout",
     "output_type": "stream",
     "text": [
      "my_dot(a, b) = 24\n"
     ]
    }
   ],
   "source": [
    "# test 1-D\n",
    "a = [1, 2, 3, 4]\n",
    "b = [-1, 4, 3, 2]\n",
    "println(\"my_dot(a, b) = $(my_dot(a, b))\")"
   ]
  },
  {
   "cell_type": "code",
   "execution_count": 60,
   "metadata": {},
   "outputs": [
    {
     "name": "stdout",
     "output_type": "stream",
     "text": [
      "1-D a ⋅ b = 24, size(a ⋅ b) = () \n",
      "1-D b ⋅ a = 24, size(b ⋅ a) = ()\n"
     ]
    }
   ],
   "source": [
    "using LinearAlgebra\n",
    "\n",
    "# test 1-D\n",
    "a = [1, 2, 3, 4]\n",
    "b = [-1, 4, 3, 2]\n",
    "c = a · b\n",
    "println(\"1-D a ⋅ b = $c, size(a ⋅ b) = $(size(c)) \") \n",
    "c = b ⋅ a\n",
    "println(\"1-D b ⋅ a = $c, size(b ⋅ a) = $(size(c))\")\n"
   ]
  },
  {
   "cell_type": "markdown",
   "metadata": {},
   "source": [
    "### 3.4.7 The Need for Speed: vector vs for loop"
   ]
  },
  {
   "cell_type": "code",
   "execution_count": 77,
   "metadata": {},
   "outputs": [
    {
     "name": "stdout",
     "output_type": "stream",
     "text": [
      "Vectorized version duration:\n",
      "  0.015397 seconds (1 allocation: 16 bytes)\n",
      "a ⋅ b =  2499801.29\n",
      "Loop version duration:\n"
     ]
    },
    {
     "name": "stdout",
     "output_type": "stream",
     "text": [
      "  0.066442 seconds (1 allocation: 16 bytes)\n"
     ]
    }
   ],
   "source": [
    "using Printf\n",
    "\n",
    "a = rand(10000000)  # very large arrays\n",
    "b = rand(10000000)\n",
    "\n",
    "println(\"Vectorized version duration:\")\n",
    "@time c = a ⋅ b\n",
    "\n",
    "println(\"a ⋅ b =  $(@sprintf(\"%.2f\", c))\")\n",
    "\n",
    "println(\"Loop version duration:\")\n",
    "@time c = my_dot(a, b)\n",
    "\n",
    "# remove these big arrays from memory\n",
    "a = nothing\n",
    "b = nothing;"
   ]
  },
  {
   "cell_type": "code",
   "execution_count": 76,
   "metadata": {},
   "outputs": [],
   "source": []
  },
  {
   "cell_type": "code",
   "execution_count": null,
   "metadata": {},
   "outputs": [],
   "source": []
  }
 ],
 "metadata": {
  "kernelspec": {
   "display_name": "Julia 1.7.3",
   "language": "julia",
   "name": "julia-1.7"
  },
  "language_info": {
   "file_extension": ".jl",
   "mimetype": "application/julia",
   "name": "julia",
   "version": "1.7.3"
  },
  "orig_nbformat": 4
 },
 "nbformat": 4,
 "nbformat_minor": 2
}
