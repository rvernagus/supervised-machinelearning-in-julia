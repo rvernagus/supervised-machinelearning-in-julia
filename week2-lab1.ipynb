{
 "cells": [
  {
   "cell_type": "code",
   "execution_count": 5,
   "metadata": {},
   "outputs": [
    {
     "name": "stdout",
     "output_type": "stream",
     "text": [
      "zeros(4) :   a = [0.0, 0.0, 0.0, 0.0], a shape = (4,), a data type = Float64\n",
      "zeros(Float64, 4,) :   a = [0.0, 0.0, 0.0, 0.0], a shape = (4,), a data type = Float64\n",
      "rand(4) :   a = [0.92126812471688, 0.5520832513440992, 0.12952561010583796, 0.33242349935405957], a shape = (4,), a data type = Float64\n"
     ]
    }
   ],
   "source": [
    "a = zeros(4)\n",
    "println(\"zeros(4) :   a = $a, a shape = $(size(a)), a data type = $(eltype(a))\")\n",
    "a = zeros(Float64, 4,)\n",
    "println(\"zeros(Float64, 4,) :   a = $a, a shape = $(size(a)), a data type = $(eltype(a))\")\n",
    "a = rand(4)\n",
    "println(\"rand(4) :   a = $a, a shape = $(size(a)), a data type = $(eltype(a))\")"
   ]
  },
  {
   "cell_type": "code",
   "execution_count": 7,
   "metadata": {},
   "outputs": [
    {
     "name": "stdout",
     "output_type": "stream",
     "text": [
      "0.:3. :   a = 0.0:1.0:3.0, a shape = (4,), a data type = Float64\n",
      "rand(4) :   a = [0.7700940271317384, 0.1400497927017843, 0.5575752126317232, 0.602667049723344], a shape = (4,), a data type = Float64\n"
     ]
    }
   ],
   "source": [
    "a = 0.:3.\n",
    "println(\"0.:3. :   a = $a, a shape = $(size(a)), a data type = $(eltype(a))\")\n",
    "a = rand(4)\n",
    "println(\"rand(4) :   a = $a, a shape = $(size(a)), a data type = $(eltype(a))\")"
   ]
  },
  {
   "cell_type": "code",
   "execution_count": 10,
   "metadata": {},
   "outputs": [
    {
     "name": "stdout",
     "output_type": "stream",
     "text": [
      "[5, 4, 3, 2] :   a = [5, 4, 3, 2], a shape = (4,), a data type = Int64\n",
      "[5., 4, 3, 2] :   a = [5.0, 4.0, 3.0, 2.0], a shape = (4,), a data type = Float64\n"
     ]
    }
   ],
   "source": [
    "a = [5, 4, 3, 2]\n",
    "println(\"[5, 4, 3, 2] :   a = $a, a shape = $(size(a)), a data type = $(eltype(a))\")\n",
    "a = [5., 4, 3, 2]\n",
    "println(\"[5., 4, 3, 2] :   a = $a, a shape = $(size(a)), a data type = $(eltype(a))\")"
   ]
  },
  {
   "cell_type": "code",
   "execution_count": 27,
   "metadata": {},
   "outputs": [
    {
     "name": "stdout",
     "output_type": "stream",
     "text": [
      "[0, 1, 2, 3, 4, 5, 6, 7, 8, 9]\n",
      "size(a[3]): () a[3] = 2, Accessing an element returns a scalar\n",
      "a[end] = 9\n",
      "The error message you'll see is:\n",
      "BoundsError"
     ]
    },
    {
     "name": "stdout",
     "output_type": "stream",
     "text": [
      "(0:9, 11)\n"
     ]
    }
   ],
   "source": [
    "# vector indexing operations on 1-D vectors\n",
    "a = 0:9\n",
    "println(collect(a))\n",
    "\n",
    "#access an element\n",
    "println(\"size(a[3]): $(size(a[3])) a[3] = $(a[3]), Accessing an element returns a scalar\")\n",
    "\n",
    "# access the last element, negative indexes count from the end\n",
    "println(\"a[end] = $(a[end])\")\n",
    "\n",
    "# indexes must be within the range of the vector or they will produce and error\n",
    "try\n",
    "    c = a[11]\n",
    "catch e\n",
    "    println(\"The error message you'll see is:\")\n",
    "    println(e)\n",
    "end"
   ]
  },
  {
   "cell_type": "code",
   "execution_count": 12,
   "metadata": {},
   "outputs": [
    {
     "name": "stdout",
     "output_type": "stream",
     "text": [
      "x = 0\n",
      "x = 1\n",
      "x = 2\n",
      "x = 3\n",
      "x = 4\n",
      "x = 5\n",
      "x = 6\n",
      "x = 7\n",
      "x = 8\n",
      "x = 9\n"
     ]
    }
   ],
   "source": [
    "for x in a\n",
    "    @show x\n",
    "end"
   ]
  },
  {
   "cell_type": "code",
   "execution_count": null,
   "metadata": {},
   "outputs": [],
   "source": []
  }
 ],
 "metadata": {
  "kernelspec": {
   "display_name": "Julia 1.7.3",
   "language": "julia",
   "name": "julia-1.7"
  },
  "language_info": {
   "file_extension": ".jl",
   "mimetype": "application/julia",
   "name": "julia",
   "version": "1.7.3"
  },
  "orig_nbformat": 4
 },
 "nbformat": 4,
 "nbformat_minor": 2
}
