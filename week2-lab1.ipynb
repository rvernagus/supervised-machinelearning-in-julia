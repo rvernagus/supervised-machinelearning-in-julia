{
 "cells": [
  {
   "cell_type": "code",
   "execution_count": 5,
   "metadata": {},
   "outputs": [
    {
     "name": "stdout",
     "output_type": "stream",
     "text": [
      "zeros(4) :   a = [0.0, 0.0, 0.0, 0.0], a shape = (4,), a data type = Float64\n",
      "zeros(Float64, 4,) :   a = [0.0, 0.0, 0.0, 0.0], a shape = (4,), a data type = Float64\n",
      "rand(4) :   a = [0.92126812471688, 0.5520832513440992, 0.12952561010583796, 0.33242349935405957], a shape = (4,), a data type = Float64\n"
     ]
    }
   ],
   "source": [
    "a = zeros(4)\n",
    "println(\"zeros(4) :   a = $a, a shape = $(size(a)), a data type = $(eltype(a))\")\n",
    "a = zeros(Float64, 4,)\n",
    "println(\"zeros(Float64, 4,) :   a = $a, a shape = $(size(a)), a data type = $(eltype(a))\")\n",
    "a = rand(4)\n",
    "println(\"rand(4) :   a = $a, a shape = $(size(a)), a data type = $(eltype(a))\")"
   ]
  },
  {
   "cell_type": "code",
   "execution_count": 7,
   "metadata": {},
   "outputs": [
    {
     "name": "stdout",
     "output_type": "stream",
     "text": [
      "0.:3. :   a = 0.0:1.0:3.0, a shape = (4,), a data type = Float64\n",
      "rand(4) :   a = [0.7700940271317384, 0.1400497927017843, 0.5575752126317232, 0.602667049723344], a shape = (4,), a data type = Float64\n"
     ]
    }
   ],
   "source": [
    "a = 0.:3.\n",
    "println(\"0.:3. :   a = $a, a shape = $(size(a)), a data type = $(eltype(a))\")\n",
    "a = rand(4)\n",
    "println(\"rand(4) :   a = $a, a shape = $(size(a)), a data type = $(eltype(a))\")"
   ]
  },
  {
   "cell_type": "code",
   "execution_count": 9,
   "metadata": {},
   "outputs": [
    {
     "name": "stdout",
     "output_type": "stream",
     "text": [
      "[5, 4, 3, 2] :   a = [5, 4, 3, 2], a shape = (4,), a data type = Int64\n",
      "[5, 4, 3, 2] :   a = [5.0, 4.0, 3.0, 2.0], a shape = (4,), a data type = Float64\n"
     ]
    }
   ],
   "source": [
    "a = [5, 4, 3, 2]\n",
    "println(\"[5, 4, 3, 2] :   a = $a, a shape = $(size(a)), a data type = $(eltype(a))\")\n",
    "a = [5., 4, 3, 2]\n",
    "println(\"[5., 4, 3, 2] :   a = $a, a shape = $(size(a)), a data type = $(eltype(a))\")"
   ]
  },
  {
   "cell_type": "code",
   "execution_count": null,
   "metadata": {},
   "outputs": [],
   "source": []
  }
 ],
 "metadata": {
  "kernelspec": {
   "display_name": "Julia 1.7.3",
   "language": "julia",
   "name": "julia-1.7"
  },
  "language_info": {
   "file_extension": ".jl",
   "mimetype": "application/julia",
   "name": "julia",
   "version": "1.7.3"
  },
  "orig_nbformat": 4
 },
 "nbformat": 4,
 "nbformat_minor": 2
}
